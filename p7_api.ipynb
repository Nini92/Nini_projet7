{
 "cells": [
  {
   "cell_type": "code",
   "execution_count": 1,
   "id": "58749e79",
   "metadata": {},
   "outputs": [],
   "source": [
    "import pandas as pd\n",
    "import csv\n",
    "import os\n",
    "\n",
    "# Fonction pour nettoyer les noms de colonnes\n",
    "def clean_columns(df):\n",
    "    df.columns = df.columns.str.strip().str.replace(r'\\s+', '_', regex=True).str.normalize('NFKD')\n",
    "    return df\n"
   ]
  },
  {
   "cell_type": "code",
   "execution_count": 2,
   "id": "37425ac3",
   "metadata": {},
   "outputs": [],
   "source": [
    "# Charger les données nettoyées\n",
    "application_train_cleaned = pd.read_csv('cleaned_application_train.csv')\n",
    "application_test_cleaned = pd.read_csv('cleaned_application_test.csv')\n",
    "\n",
    "# Nettoyer les noms de colonnes\n",
    "application_train_cleaned = clean_columns(application_train_cleaned)\n",
    "application_test_cleaned = clean_columns(application_test_cleaned)\n",
    "\n",
    "# print(\"Columns in the cleaned application_train_cleaned.csv:\")\n",
    "# print(application_train_cleaned.columns.tolist())\n"
   ]
  },
  {
   "cell_type": "code",
   "execution_count": 3,
   "id": "0ad39e30",
   "metadata": {},
   "outputs": [],
   "source": [
    "# Fonction pour traiter les valeurs manquantes et encoder les variables catégorielles\n",
    "def preprocess_data(df):\n",
    "    # Traitement des valeurs manquantes\n",
    "    df = df.fillna(df.select_dtypes(include=['number']).mean())\n",
    "    df = df.fillna(df.select_dtypes(include=['object']).mode().iloc[0])\n",
    "\n",
    "    # Sauvegarde des colonnes avant encodage pour vérification\n",
    "    original_columns = df.columns.tolist()\n",
    "\n",
    "    # Encodage des variables catégorielles\n",
    "    df = pd.get_dummies(df, drop_first=True)\n",
    "\n",
    "    # Affichage des colonnes ajoutées après encodage\n",
    "#     print(\"New columns after encoding:\", set(df.columns) - set(original_columns))\n",
    "\n",
    "    return df\n",
    "\n",
    "application_train_cleaned = preprocess_data(application_train_cleaned)\n",
    "application_test_cleaned = preprocess_data(application_test_cleaned)\n"
   ]
  },
  {
   "cell_type": "code",
   "execution_count": 4,
   "id": "f7ac07f2",
   "metadata": {},
   "outputs": [],
   "source": [
    "from sklearn.preprocessing import StandardScaler\n",
    "\n",
    "# Fonction pour normaliser les données\n",
    "def normalize_data(df, reference_df):\n",
    "    scaler = StandardScaler()\n",
    "    reference_columns = reference_df.columns.tolist()\n",
    "\n",
    "    # Vérification des colonnes manquantes\n",
    "    missing_cols = set(reference_columns) - set(df.columns)\n",
    "    if missing_cols:\n",
    "        for col in missing_cols:\n",
    "            df[col] = 0\n",
    "\n",
    "    df = df[reference_columns]  # Assurez-vous que l'ordre des colonnes est identique\n",
    "\n",
    "    df[df.columns] = scaler.fit_transform(df)\n",
    "    return df\n",
    "\n",
    "# Normaliser les données en utilisant le DataFrame de référence\n",
    "application_train_cleaned = normalize_data(application_train_cleaned, application_train_cleaned)\n",
    "application_test_cleaned = normalize_data(application_test_cleaned, application_train_cleaned)\n"
   ]
  },
  {
   "cell_type": "code",
   "execution_count": 15,
   "id": "94cc6bb7",
   "metadata": {},
   "outputs": [
    {
     "name": "stdout",
     "output_type": "stream",
     "text": [
      "The 'TARGET' column is present and correctly named.\n",
      "Le rapport de Data Drift a été généré et sauvegardé sous 'data_drift_report.html'.\n"
     ]
    }
   ],
   "source": [
    "import pandas as pd\n",
    "from evidently.report import Report\n",
    "from evidently.metric_preset import DataDriftPreset\n",
    "\n",
    "# Les 10 principales features à analyser\n",
    "features = ['DAYS_BIRTH', 'AMT_INCOME_TOTAL', 'DAYS_REGISTRATION',\n",
    "            'DAYS_ID_PUBLISH', 'DAYS_EMPLOYED', 'SK_ID_CURR',\n",
    "            'DAYS_LAST_PHONE_CHANGE', 'AMT_ANNUITY', 'AMT_CREDIT',\n",
    "            'AMT_GOODS_PRICE']\n",
    "\n",
    "# Filtrer les datasets pour ne conserver que les principales features\n",
    "application_train_filtered = application_train_cleaned[features]\n",
    "application_test_filtered = application_test_cleaned[features]\n",
    "\n",
    "# Vérification de la colonne TARGET\n",
    "if 'TARGET' in application_train_cleaned.columns:\n",
    "    print(\"The 'TARGET' column is present and correctly named.\")\n",
    "\n",
    "    # Création du rapport Evidently avec le preset DataDriftPreset\n",
    "    report = Report(metrics=[DataDriftPreset()])\n",
    "    report.run(reference_data=application_train_filtered, current_data=application_test_filtered)\n",
    "\n",
    "    # Sauvegarde du rapport en HTML\n",
    "    report.save_html('./data_drift_report.html')\n",
    "\n",
    "    print(\"Le rapport de Data Drift a été généré et sauvegardé sous 'data_drift_report.html'.\")\n",
    "else:\n",
    "    print(\"The TARGET column is missing from the application_train_cleaned.csv file.\")\n",
    "    # Affichage des colonnes pour diagnostic\n",
    "    print(\"Columns in application_train_cleaned.csv:\", application_train_cleaned.columns.tolist())\n"
   ]
  },
  {
   "cell_type": "code",
   "execution_count": null,
   "id": "77d7452d",
   "metadata": {},
   "outputs": [],
   "source": [
    "!git init"
   ]
  },
  {
   "cell_type": "code",
   "execution_count": null,
   "id": "c1f0917f",
   "metadata": {},
   "outputs": [],
   "source": [
    "!git config --global user.email \"nini.foudil92@gmail.com\"\n",
    "!git config --global user.name \"NINI\"\n"
   ]
  },
  {
   "cell_type": "code",
   "execution_count": null,
   "id": "9bdec934",
   "metadata": {},
   "outputs": [],
   "source": [
    "!del .git\\index.lock\n"
   ]
  },
  {
   "cell_type": "code",
   "execution_count": null,
   "id": "173e28eb",
   "metadata": {},
   "outputs": [],
   "source": [
    "\n",
    "!git add P7_Analyse_exploratoire.ipynb\n",
    "!git add p7_api.ipynb\n",
    "!git add datap7/application_train_cleaned.csv\n",
    "!git add datap7/application_test_cleaned.csv\n"
   ]
  },
  {
   "cell_type": "code",
   "execution_count": null,
   "id": "a975a3d4",
   "metadata": {},
   "outputs": [],
   "source": [
    "!git commit -m \"Ajout des fichiers notebooks et CSV pour le projet\"\n"
   ]
  },
  {
   "cell_type": "code",
   "execution_count": null,
   "id": "574202a2",
   "metadata": {},
   "outputs": [],
   "source": [
    "!git remote set-url origin https://github.com/Nini92/p7ocr.git\n"
   ]
  },
  {
   "cell_type": "code",
   "execution_count": null,
   "id": "b49a5c66",
   "metadata": {},
   "outputs": [],
   "source": [
    "!git push -u origin master\n"
   ]
  },
  {
   "cell_type": "code",
   "execution_count": null,
   "id": "c51c7ca0",
   "metadata": {},
   "outputs": [],
   "source": [
    "\n"
   ]
  },
  {
   "cell_type": "code",
   "execution_count": null,
   "id": "39c79377",
   "metadata": {},
   "outputs": [],
   "source": []
  },
  {
   "cell_type": "code",
   "execution_count": 16,
   "id": "34ab29d6",
   "metadata": {},
   "outputs": [],
   "source": [
    "!git config --global user.name \"Nini92\"\n",
    "!git config --global user.email \"nini.foudil92@gmail.com\"\n"
   ]
  },
  {
   "cell_type": "code",
   "execution_count": 17,
   "id": "83e3c592",
   "metadata": {},
   "outputs": [
    {
     "name": "stdout",
     "output_type": "stream",
     "text": [
      "Reinitialized existing Git repository in C:/Users/Foudil/Projet7/.git/\n"
     ]
    }
   ],
   "source": [
    "!mkdir NINI_P7\n",
    "!cd NINI_P7\n",
    "!git init\n"
   ]
  },
  {
   "cell_type": "code",
   "execution_count": 18,
   "id": "693f3aef",
   "metadata": {},
   "outputs": [],
   "source": [
    "!git remote add origin https://github.com/Nini92/NINI_P7.git\n"
   ]
  },
  {
   "cell_type": "code",
   "execution_count": 19,
   "id": "155bffca",
   "metadata": {},
   "outputs": [
    {
     "name": "stderr",
     "output_type": "stream",
     "text": [
      "fatal: ../P7_Analyse_exploratoire.ipynb: '../P7_Analyse_exploratoire.ipynb' is outside repository at 'C:/Users/Foudil/Projet7'\n",
      "fatal: ../p7_api.ipynb: '../p7_api.ipynb' is outside repository at 'C:/Users/Foudil/Projet7'\n",
      "fatal: ../data_drift_report.html: '../data_drift_report.html' is outside repository at 'C:/Users/Foudil/Projet7'\n",
      "fatal: ../cleaned_application_test.csv: '../cleaned_application_test.csv' is outside repository at 'C:/Users/Foudil/Projet7'\n",
      "fatal: ../cleaned_application_train.csv: '../cleaned_application_train.csv' is outside repository at 'C:/Users/Foudil/Projet7'\n"
     ]
    }
   ],
   "source": []
  },
  {
   "cell_type": "code",
   "execution_count": null,
   "id": "179552f6",
   "metadata": {},
   "outputs": [],
   "source": []
  }
 ],
 "metadata": {
  "kernelspec": {
   "display_name": "Python 3 (ipykernel)",
   "language": "python",
   "name": "python3"
  },
  "language_info": {
   "codemirror_mode": {
    "name": "ipython",
    "version": 3
   },
   "file_extension": ".py",
   "mimetype": "text/x-python",
   "name": "python",
   "nbconvert_exporter": "python",
   "pygments_lexer": "ipython3",
   "version": "3.11.4"
  }
 },
 "nbformat": 4,
 "nbformat_minor": 5
}
